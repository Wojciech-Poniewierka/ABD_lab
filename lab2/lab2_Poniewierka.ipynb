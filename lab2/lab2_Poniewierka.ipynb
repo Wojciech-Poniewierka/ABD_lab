{
 "cells": [
  {
   "cell_type": "markdown",
   "id": "a0678e1a",
   "metadata": {},
   "source": [
    "<h4>Wojciech Poniewierka 402224 EAIiIB AiR AGH<h4/>\n",
    "\n",
    "<h1>Laboratorium 2<h1/>"
   ]
  },
  {
   "cell_type": "markdown",
   "id": "7710b44c",
   "metadata": {},
   "source": [
    "*Zadanie 1*\n",
    "\n",
    "Uporządkuję bazę danych o gruźlicy w różnych grupach pacjentów."
   ]
  },
  {
   "cell_type": "code",
   "execution_count": 1,
   "id": "933c089d",
   "metadata": {},
   "outputs": [],
   "source": [
    "import pandas as pd\n",
    "\n",
    "data = pd.read_csv(\"TIER/Original_Data/tb.csv\")\n"
   ]
  },
  {
   "cell_type": "markdown",
   "id": "5b949cd7",
   "metadata": {},
   "source": [
    "test"
   ]
  },
  {
   "cell_type": "code",
   "execution_count": null,
   "id": "625b12d3",
   "metadata": {},
   "outputs": [],
   "source": []
  }
 ],
 "metadata": {
  "kernelspec": {
   "display_name": "Python 3",
   "language": "python",
   "name": "python3"
  },
  "language_info": {
   "codemirror_mode": {
    "name": "ipython",
    "version": 3
   },
   "file_extension": ".py",
   "mimetype": "text/x-python",
   "name": "python",
   "nbconvert_exporter": "python",
   "pygments_lexer": "ipython3",
   "version": "3.8.0"
  }
 },
 "nbformat": 4,
 "nbformat_minor": 5
}
