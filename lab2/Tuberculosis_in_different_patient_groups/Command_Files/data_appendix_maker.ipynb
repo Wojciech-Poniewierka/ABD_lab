{
 "cells": [
  {
   "cell_type": "markdown",
   "id": "84a4f6a1",
   "metadata": {},
   "source": [
    "Wojciech Poniewierka 402224 EAIiIB AiR AGH"
   ]
  },
  {
   "cell_type": "markdown",
   "id": "6a8c52ab",
   "metadata": {},
   "source": [
    "Otwieram przetworzony plik .csv:"
   ]
  },
  {
   "cell_type": "code",
   "execution_count": 6,
   "id": "6f3f7f94",
   "metadata": {},
   "outputs": [
    {
     "data": {
      "text/html": [
       "<div>\n",
       "<style scoped>\n",
       "    .dataframe tbody tr th:only-of-type {\n",
       "        vertical-align: middle;\n",
       "    }\n",
       "\n",
       "    .dataframe tbody tr th {\n",
       "        vertical-align: top;\n",
       "    }\n",
       "\n",
       "    .dataframe thead th {\n",
       "        text-align: right;\n",
       "    }\n",
       "</style>\n",
       "<table border=\"1\" class=\"dataframe\">\n",
       "  <thead>\n",
       "    <tr style=\"text-align: right;\">\n",
       "      <th></th>\n",
       "      <th>iso2</th>\n",
       "      <th>year</th>\n",
       "      <th>sex</th>\n",
       "      <th>age</th>\n",
       "      <th>cases</th>\n",
       "    </tr>\n",
       "  </thead>\n",
       "  <tbody>\n",
       "    <tr>\n",
       "      <th>0</th>\n",
       "      <td>AD</td>\n",
       "      <td>1996</td>\n",
       "      <td>m</td>\n",
       "      <td>0--14</td>\n",
       "      <td>0</td>\n",
       "    </tr>\n",
       "    <tr>\n",
       "      <th>1</th>\n",
       "      <td>AD</td>\n",
       "      <td>1996</td>\n",
       "      <td>m</td>\n",
       "      <td>15--24</td>\n",
       "      <td>0</td>\n",
       "    </tr>\n",
       "    <tr>\n",
       "      <th>2</th>\n",
       "      <td>AD</td>\n",
       "      <td>1996</td>\n",
       "      <td>m</td>\n",
       "      <td>25--34</td>\n",
       "      <td>0</td>\n",
       "    </tr>\n",
       "    <tr>\n",
       "      <th>3</th>\n",
       "      <td>AD</td>\n",
       "      <td>1996</td>\n",
       "      <td>m</td>\n",
       "      <td>35--44</td>\n",
       "      <td>4</td>\n",
       "    </tr>\n",
       "    <tr>\n",
       "      <th>4</th>\n",
       "      <td>AD</td>\n",
       "      <td>1996</td>\n",
       "      <td>m</td>\n",
       "      <td>45--54</td>\n",
       "      <td>1</td>\n",
       "    </tr>\n",
       "  </tbody>\n",
       "</table>\n",
       "</div>"
      ],
      "text/plain": [
       "  iso2  year sex     age  cases\n",
       "0   AD  1996   m   0--14      0\n",
       "1   AD  1996   m  15--24      0\n",
       "2   AD  1996   m  25--34      0\n",
       "3   AD  1996   m  35--44      4\n",
       "4   AD  1996   m  45--54      1"
      ]
     },
     "execution_count": 6,
     "metadata": {},
     "output_type": "execute_result"
    }
   ],
   "source": [
    "import pandas as pd\n",
    "import numpy as np\n",
    "import matplotlib.pyplot as plt\n",
    "\n",
    "df = pd.read_csv(\"../Analysis_Data/processed_data.csv\")\n",
    "data_head = str(df.head(5))\n",
    "df.head(5)"
   ]
  },
  {
   "cell_type": "markdown",
   "id": "ed329307",
   "metadata": {},
   "source": [
    "Generuję ogólne statystyki i informacje:"
   ]
  },
  {
   "cell_type": "code",
   "execution_count": 2,
   "id": "f2df76d1",
   "metadata": {},
   "outputs": [
    {
     "name": "stdout",
     "output_type": "stream",
     "text": [
      "<class 'pandas.core.frame.DataFrame'>\n",
      "RangeIndex: 35750 entries, 0 to 35749\n",
      "Data columns (total 5 columns):\n",
      " #   Column  Non-Null Count  Dtype \n",
      "---  ------  --------------  ----- \n",
      " 0   iso2    35552 non-null  object\n",
      " 1   year    35750 non-null  int64 \n",
      " 2   sex     35750 non-null  object\n",
      " 3   age     35750 non-null  object\n",
      " 4   cases   35750 non-null  int64 \n",
      "dtypes: int64(2), object(3)\n",
      "memory usage: 977.6+ KB\n"
     ]
    }
   ],
   "source": [
    "df.info()"
   ]
  },
  {
   "cell_type": "code",
   "execution_count": 3,
   "id": "a2383f23",
   "metadata": {},
   "outputs": [
    {
     "name": "stdout",
     "output_type": "stream",
     "text": [
      "               year         cases\n",
      "count  35750.000000  35750.000000\n",
      "mean    2002.013259    609.378881\n",
      "std        4.348898   3278.187960\n",
      "min     1980.000000      0.000000\n",
      "25%     1999.000000      4.000000\n",
      "50%     2002.000000     36.000000\n",
      "75%     2006.000000    245.000000\n",
      "max     2008.000000  90498.000000\n"
     ]
    }
   ],
   "source": [
    "# opis zmiennych numerycznych\n",
    "desc_num = str(df.describe(include=[np.number]))\n",
    "print(desc_num)"
   ]
  },
  {
   "cell_type": "code",
   "execution_count": 4,
   "id": "bfc24098",
   "metadata": {},
   "outputs": [
    {
     "name": "stdout",
     "output_type": "stream",
     "text": [
      "         iso2    sex     age\n",
      "count   35552  35750   35750\n",
      "unique    212      2      10\n",
      "top        CA      m  45--54\n",
      "freq      420  17920    4822\n"
     ]
    }
   ],
   "source": [
    "# opis zmiennych nienumerycznych\n",
    "desc_not_num = str(df.describe(include=[object]))\n",
    "print(desc_not_num)"
   ]
  },
  {
   "cell_type": "markdown",
   "id": "634bdf6a",
   "metadata": {},
   "source": [
    "Tworzę plik data_appendix.txt i zapisuję do niego dane:"
   ]
  },
  {
   "cell_type": "code",
   "execution_count": 5,
   "id": "b0f7d721",
   "metadata": {},
   "outputs": [],
   "source": [
    "with open('../Documents/data_appendix.txt', 'w') as f:\n",
    "    f.write(\"Data appendix dla przetworzonego pliku: processed_data.csv\\n\\n\")\n",
    "    f.write(\"Head of data:\\n\")\n",
    "    f.write(data_head)\n",
    "    f.write(\"\\n\\nOpis zmiennych numerycznych:\\n\")\n",
    "    f.write(desc_num)\n",
    "    f.write(\"\\n\\nOpis zmiennych nienumerycznych:\\n\")\n",
    "    f.write(desc_not_num)\n",
    "    f.write(\"\\n\\nOpis poszczególnych zmiennych:\\n\")\n",
    "    f.write(\"\\t- iso2: \\n\" +\n",
    "                \"\\t\\t* kod iso2\\n\" +\n",
    "                \"\\t\\t* w oryginalnym pliku to ta sama zmienna\\n\" +\n",
    "                \"\\t\\t* ilość: 35750\\n\")\n",
    "    f.write(\"\\t- year: \\n\" +\n",
    "                \"\\t\\t* rok danej obserwacji\\n\" +\n",
    "                \"\\t\\t* w oryginalnym pliku to ta sama zmienna\\n\" +\n",
    "                \"\\t\\t* ilość: 35750\\n\")\n",
    "    f.write(\"\\t- sex: \\n\" +\n",
    "                \"\\t\\t* płeć\\n\" +\n",
    "                \"\\t\\t* w oryginalnym pliku płeć była zakodowana w nazwach poszczególnych kolumn\\n\" +\n",
    "                \"\\t\\t* ilość: 35750\\n\")\n",
    "    f.write(\"\\t- age: \\n\" +\n",
    "                \"\\t\\t* wiek danej grupy osób\\n\" +\n",
    "                \"\\t\\t* w oryginalnym pliku wiek był zakodowany w nazwach poszczególnych kolumn razem z płcią\\n\" +\n",
    "                \"\\t\\t* ilość: 35750\\n\")\n",
    "    f.write(\"\\t- cases: \\n\" +\n",
    "                \"\\t\\t* ilość przypadków dla danej obserwacji\\n\" +\n",
    "                \"\\t\\t* dane te zostały przepisane z oryginalnego pliku pomijając puste komórki\\n\" +\n",
    "                \"\\t\\t* ilość: 35750\\n\")"
   ]
  },
  {
   "cell_type": "markdown",
   "id": "1e628f8b",
   "metadata": {},
   "source": [
    "Kolejnym krokiem jest utworzenie wykresów."
   ]
  },
  {
   "cell_type": "code",
   "execution_count": 63,
   "id": "2d67b9b5",
   "metadata": {},
   "outputs": [
    {
     "data": {
      "image/png": "[encoded data removed]",
      "text/plain": [
       "<Figure size 432x288 with 1 Axes>"
      ]
     },
     "metadata": {
      "needs_background": "light"
     },
     "output_type": "display_data"
    },
    {
     "data": {
      "image/png": "[encoded data removed]",
      "text/plain": [
       "<Figure size 432x288 with 1 Axes>"
      ]
     },
     "metadata": {
      "needs_background": "light"
     },
     "output_type": "display_data"
    }
   ],
   "source": [
    "year_cases = df.groupby('year')['cases'].sum()\n",
    "fig1, ax1 = plt.subplots()\n",
    "fig1.suptitle('Suma zakażeń dla poszczególnych lat')\n",
    "ax1.plot(year_cases)\n",
    "ax1.grid()\n",
    "ax1.set_ylabel('Ilość zakażeń (x 10^6)')\n",
    "ax1.set_xlabel('Rok')\n",
    "fig1.savefig('../Documents/wykres_year_cases.png')\n",
    "\n",
    "sex_cases = df.groupby('sex')['cases'].sum()\n",
    "fig2, ax2 = plt.subplots()\n",
    "fig2.suptitle('Suma zakażeń dla poszczególnych płci')\n",
    "ax2.bar(['Kobiety', 'Mężczyźni'], sex_cases)\n",
    "ax2.grid()\n",
    "ax2.set_ylabel('Ilość zakażeń (x10^7)')\n",
    "ax2.set_xlabel('Płeć')\n",
    "fig2.savefig('../Documents/wykres_sex_cases.png')"
   ]
  }
 ],
 "metadata": {
  "kernelspec": {
   "display_name": "Python 3",
   "language": "python",
   "name": "python3"
  },
  "language_info": {
   "codemirror_mode": {
    "name": "ipython",
    "version": 3
   },
   "file_extension": ".py",
   "mimetype": "text/x-python",
   "name": "python",
   "nbconvert_exporter": "python",
   "pygments_lexer": "ipython3",
   "version": "3.8.0"
  }
 },
 "nbformat": 4,
 "nbformat_minor": 5
}
