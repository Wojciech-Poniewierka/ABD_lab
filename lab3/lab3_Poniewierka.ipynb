{
 "cells": [
  {
   "cell_type": "markdown",
   "id": "07542c47",
   "metadata": {},
   "source": [
    "<h4>Wojciech Poniewierka 402224 EAIiIB AiR AGH</h4>\n",
    "\n",
    "<h1>Laboratorium 3</h1>"
   ]
  },
  {
   "cell_type": "markdown",
   "id": "558bb64a",
   "metadata": {},
   "source": [
    "Import potrzebnych bibliotek i nawiązanie połączenia z baza danych:"
   ]
  },
  {
   "cell_type": "code",
   "execution_count": 12,
   "id": "26875c09",
   "metadata": {},
   "outputs": [],
   "source": [
    "import psycopg2 as pg\n",
    "import pandas as pd\n",
    "\n",
    "connection = pg.connect(host='pgsql-196447.vipserv.org', port=5432, \n",
    "                        dbname='wbauer_adb', user='wbauer_adb', password='adb2020')"
   ]
  },
  {
   "cell_type": "markdown",
   "id": "7cf72f4a",
   "metadata": {},
   "source": [
    "Zadanie 1. \n",
    "<br/><br/>\n",
    "Ile kategorii filmów mamy w wypożyczalni?"
   ]
  },
  {
   "cell_type": "code",
   "execution_count": 13,
   "id": "94bae858",
   "metadata": {},
   "outputs": [
    {
     "name": "stdout",
     "output_type": "stream",
     "text": [
      "   count\n",
      "0     16\n"
     ]
    }
   ],
   "source": [
    "query = 'SELECT COUNT(DISTINCT name) FROM category'\n",
    "\n",
    "df = pd.read_sql(query,con=connection)\n",
    "print(df)"
   ]
  },
  {
   "cell_type": "markdown",
   "id": "b32a3fdc",
   "metadata": {},
   "source": [
    "Zadanie 2. \n",
    "<br/><br/>\n",
    "Wyświetl listę kategorii w kolejności alfabetycznej."
   ]
  },
  {
   "cell_type": "code",
   "execution_count": 14,
   "id": "5aaeffd5",
   "metadata": {},
   "outputs": [
    {
     "name": "stdout",
     "output_type": "stream",
     "text": [
      "           name\n",
      "0        Action\n",
      "1     Animation\n",
      "2      Children\n",
      "3      Classics\n",
      "4        Comedy\n",
      "5   Documentary\n",
      "6         Drama\n",
      "7        Family\n",
      "8       Foreign\n",
      "9         Games\n",
      "10       Horror\n",
      "11        Music\n",
      "12          New\n",
      "13       Sci-Fi\n",
      "14       Sports\n",
      "15       Travel\n"
     ]
    }
   ],
   "source": [
    "query = 'SELECT DISTINCT name FROM category ORDER BY name'\n",
    "\n",
    "df = pd.read_sql(query,con=connection)\n",
    "print(df)"
   ]
  },
  {
   "cell_type": "markdown",
   "id": "39f9d31b",
   "metadata": {},
   "source": [
    "Zadanie 3. \n",
    "<br/><br/>\n",
    "Znajdź najstarszy i najmłodszy film do wypożyczenia."
   ]
  },
  {
   "cell_type": "code",
   "execution_count": 15,
   "id": "37868aea",
   "metadata": {},
   "outputs": [
    {
     "name": "stdout",
     "output_type": "stream",
     "text": [
      "Najmłodszy film:\n",
      "             title\n",
      "0  Chamber Italian\n",
      "\n",
      "Najstarszy film:\n",
      "             title\n",
      "0  Chamber Italian\n"
     ]
    }
   ],
   "source": [
    "query = 'SELECT title FROM film WHERE release_year = (SELECT MIN(release_year) from film) LIMIT 1'\n",
    "\n",
    "df = pd.read_sql(query,con=connection)\n",
    "print(\"Najmłodszy film:\")\n",
    "print(df)\n",
    "\n",
    "\n",
    "query = 'SELECT title FROM film WHERE release_year = (SELECT MAX(release_year) from film) LIMIT 1'\n",
    "\n",
    "df = pd.read_sql(query,con=connection)\n",
    "print('\\nNajstarszy film:')\n",
    "print(df)"
   ]
  },
  {
   "cell_type": "markdown",
   "id": "6c93d4a8",
   "metadata": {},
   "source": [
    "Zadanie 4. \n",
    "<br/><br/>\n",
    "Ile wypożyczeń odbyło się między 2005-07-01 a 2005-08-01?"
   ]
  },
  {
   "cell_type": "code",
   "execution_count": 16,
   "id": "76eea280",
   "metadata": {},
   "outputs": [
    {
     "name": "stdout",
     "output_type": "stream",
     "text": [
      "   count\n",
      "0   7380\n"
     ]
    }
   ],
   "source": [
    "query = \"SELECT COUNT(*) FROM rental WHERE rental_date BETWEEN '2005-07-01 00:00:00' AND '2005-08-01 23:59:59'\"\n",
    "\n",
    "df = pd.read_sql(query,con=connection)\n",
    "print(df)"
   ]
  },
  {
   "cell_type": "markdown",
   "id": "d7c6984f",
   "metadata": {},
   "source": [
    "Zadanie 5. \n",
    "<br/><br/>\n",
    "Ile wypożyczeń odbyło się między 2010-01-01 a 2011-02-01?"
   ]
  },
  {
   "cell_type": "code",
   "execution_count": 17,
   "id": "8259032e",
   "metadata": {},
   "outputs": [
    {
     "name": "stdout",
     "output_type": "stream",
     "text": [
      "   count\n",
      "0      0\n"
     ]
    }
   ],
   "source": [
    "query = \"SELECT COUNT(*) FROM rental WHERE rental_date BETWEEN '2010-01-01' AND '2011-02-01'\"\n",
    "\n",
    "df = pd.read_sql(query,con=connection)\n",
    "print(df)"
   ]
  },
  {
   "cell_type": "markdown",
   "id": "37a750fd",
   "metadata": {},
   "source": [
    "Zadanie 6. \n",
    "<br/><br/>\n",
    "Znajdź największą płatność wypożyczenia."
   ]
  },
  {
   "cell_type": "code",
   "execution_count": 18,
   "id": "bd822829",
   "metadata": {},
   "outputs": [
    {
     "name": "stdout",
     "output_type": "stream",
     "text": [
      "     max\n",
      "0  11.99\n"
     ]
    }
   ],
   "source": [
    "query = \"SELECT MAX(amount) FROM payment\"\n",
    "\n",
    "df = pd.read_sql(query,con=connection)\n",
    "print(df)"
   ]
  },
  {
   "cell_type": "markdown",
   "id": "9c37834e",
   "metadata": {},
   "source": [
    "Zadanie 7. \n",
    "<br/><br/>\n",
    "Znajdź wszystkich klientów z Polski, Nigerii lub Bangladeszu."
   ]
  },
  {
   "cell_type": "code",
   "execution_count": 19,
   "id": "11a5fe3d",
   "metadata": {},
   "outputs": [
    {
     "name": "stdout",
     "output_type": "stream",
     "text": [
      "    customer_id first_name  last_name\n",
      "0            18      Carol     Garcia\n",
      "1            21   Michelle      Clark\n",
      "2            80    Marilyn       Ross\n",
      "3           103     Gladys   Hamilton\n",
      "4           128   Marjorie     Tucker\n",
      "5           156     Bertha   Ferguson\n",
      "6           198      Elsie     Kelley\n",
      "7           232  Constance       Reid\n",
      "8           250         Jo     Fowler\n",
      "9           270       Leah     Curtis\n",
      "10          277       Olga    Jimenez\n",
      "11          280     Tracey    Barrett\n",
      "12          284      Sonia    Gregory\n",
      "13          286      Velma      Lucas\n",
      "14          318      Brian      Wyman\n",
      "15          329      Frank   Waggoner\n",
      "16          332    Stephen     Qualls\n",
      "17          380    Russell    Brinson\n",
      "18          409     Rodney    Moeller\n",
      "19          501      Ruben      Geary\n",
      "20          558     Jimmie  Eggleston\n",
      "21          562    Wallace      Slone\n",
      "22          571    Johnnie   Chisholm\n",
      "23          572     Sidney   Burleson\n"
     ]
    }
   ],
   "source": [
    "query = '''SELECT customer_id, first_name, last_name FROM customer WHERE address_id IN\n",
    "            (SELECT address_id FROM address WHERE city_id IN\n",
    "                (SELECT city_id FROM city WHERE country_id IN\n",
    "                    (SELECT country_id FROM country WHERE country IN ('Poland', 'Nigeria', 'Bangladesh'))))'''\n",
    "\n",
    "df = pd.read_sql(query,con=connection)\n",
    "print(df)"
   ]
  },
  {
   "cell_type": "markdown",
   "id": "187cb23f",
   "metadata": {},
   "source": [
    "Zadanie 8. \n",
    "<br/><br/>\n",
    "Gdzie mieszkają członkowie personelu?"
   ]
  },
  {
   "cell_type": "code",
   "execution_count": 20,
   "id": "68387201",
   "metadata": {},
   "outputs": [
    {
     "name": "stdout",
     "output_type": "stream",
     "text": [
      "     country        city               address\n",
      "0     Canada  Lethbridge     23 Workhaven Lane\n",
      "1  Australia   Woodridge  1411 Lillydale Drive\n"
     ]
    }
   ],
   "source": [
    "query = '''SELECT co.country, ci.city, ad.address FROM country AS co, city AS ci, address AS ad, staff\n",
    "           WHERE staff.address_id=ad.address_id \n",
    "           AND ad.city_id=ci.city_id\n",
    "           AND ci.country_id=co.country_id'''\n",
    "\n",
    "df = pd.read_sql(query,con=connection)\n",
    "print(df)"
   ]
  },
  {
   "cell_type": "markdown",
   "id": "edf5120a",
   "metadata": {},
   "source": [
    "Zadanie 9. \n",
    "<br/><br/>\n",
    "Ilu pracowników mieszka w Argentynie lub Hiszpanii?"
   ]
  },
  {
   "cell_type": "code",
   "execution_count": 21,
   "id": "91367688",
   "metadata": {},
   "outputs": [
    {
     "name": "stdout",
     "output_type": "stream",
     "text": [
      "   count\n",
      "0      0\n"
     ]
    }
   ],
   "source": [
    "query = '''SELECT COUNT(*) FROM staff WHERE address_id IN\n",
    "            (SELECT address_id FROM address WHERE city_id IN\n",
    "                (SELECT city_id FROM city WHERE country_id IN\n",
    "                    (SELECT country_id FROM country where country in ('Argentina', 'Spain'))))'''\n",
    "\n",
    "df = pd.read_sql(query,con=connection)\n",
    "print(df)"
   ]
  },
  {
   "cell_type": "markdown",
   "id": "f19d32e5",
   "metadata": {},
   "source": [
    "Zadanie 10. \n",
    "<br/><br/>\n",
    "Jakie kategorie filmów zostały wypożyczone przez klientów?"
   ]
  },
  {
   "cell_type": "code",
   "execution_count": 22,
   "id": "14103eb8",
   "metadata": {},
   "outputs": [
    {
     "name": "stdout",
     "output_type": "stream",
     "text": [
      "           name\n",
      "0        Action\n",
      "1     Animation\n",
      "2      Children\n",
      "3      Classics\n",
      "4        Comedy\n",
      "5   Documentary\n",
      "6         Drama\n",
      "7        Family\n",
      "8       Foreign\n",
      "9         Games\n",
      "10       Horror\n",
      "11        Music\n",
      "12          New\n",
      "13       Sci-Fi\n",
      "14       Sports\n",
      "15       Travel\n"
     ]
    }
   ],
   "source": [
    "query = '''SELECT DISTINCT name FROM category WHERE category_id IN\n",
    "            (SELECT category_id FROM film_category WHERE film_id IN\n",
    "                (SELECT film_id FROM film WHERE film_id IN\n",
    "                    (SELECT film_id FROM inventory WHERE inventory_id IN\n",
    "                        (SELECT inventory_id FROM rental))))'''\n",
    "    \n",
    "df = pd.read_sql(query,con=connection)\n",
    "print(df)"
   ]
  },
  {
   "cell_type": "markdown",
   "id": "b5e0d77f",
   "metadata": {},
   "source": [
    "Zadanie 11. \n",
    "<br/><br/>\n",
    "Znajdź wszystkie kategorie filmów wypożyczonych w Ameryce."
   ]
  },
  {
   "cell_type": "code",
   "execution_count": 23,
   "id": "cb895477",
   "metadata": {},
   "outputs": [
    {
     "name": "stdout",
     "output_type": "stream",
     "text": [
      "Empty DataFrame\n",
      "Columns: [name]\n",
      "Index: []\n"
     ]
    }
   ],
   "source": [
    "query = '''SELECT DISTINCT category.name \n",
    "            FROM category, film_category, film, inventory, rental, staff, store, address, city, country WHERE\n",
    "                category.category_id=film_category.category_id AND\n",
    "                film_category.film_id=film.film_id AND\n",
    "                film.film_id=inventory.film_id AND\n",
    "                inventory.inventory_id=rental.inventory_id AND\n",
    "                rental.staff_id=staff.staff_id AND\n",
    "                staff.store_id=store.store_id AND\n",
    "                store.address_id=address.address_id AND\n",
    "                address.city_id=city.city_id AND\n",
    "                city.country_id=country.country_id AND\n",
    "                country.country='United States' '''\n",
    "\n",
    "df = pd.read_sql(query,con=connection)\n",
    "print(df)"
   ]
  },
  {
   "cell_type": "markdown",
   "id": "3020d148",
   "metadata": {},
   "source": [
    "Zadanie 12. \n",
    "<br/><br/>\n",
    "Znajdź wszystkie tytuły filmów, w których grał: Olympia Pfeiffer lub Julia Zellweger lub Ellen Presley."
   ]
  },
  {
   "cell_type": "code",
   "execution_count": 24,
   "id": "b727494e",
   "metadata": {},
   "outputs": [
    {
     "name": "stdout",
     "output_type": "stream",
     "text": [
      "                title\n",
      "0   Caribbean Liberty\n",
      "1      Roots Remember\n",
      "2        Outlaw Hanky\n",
      "3        Women Dorado\n",
      "4    Empire Malkovich\n",
      "..                ...\n",
      "64  Contact Anonymous\n",
      "65    Majestic Floats\n",
      "66       Deep Crusade\n",
      "67   Effect Gladiator\n",
      "68     Express Lonely\n",
      "\n",
      "[69 rows x 1 columns]\n"
     ]
    }
   ],
   "source": [
    "pfeiffer = \"first_name='Olympia' AND last_name='Pfeiffer'\"\n",
    "zellweger = \"first_name='Julia' AND last_name='Zellweger'\"\n",
    "presley = \"first_name='Ellen' AND last_name='Presley'\"\n",
    "\n",
    "query = f'''SELECT title FROM film WHERE film_id IN\n",
    "                (SELECT film_id FROM film_actor WHERE actor_id IN\n",
    "                    (SELECT actor_id FROM actor WHERE {pfeiffer} OR {zellweger} OR {presley}))'''\n",
    "\n",
    "df = pd.read_sql(query,con=connection)\n",
    "print(df)"
   ]
  }
 ],
 "metadata": {
  "kernelspec": {
   "display_name": "Python 3",
   "language": "python",
   "name": "python3"
  },
  "language_info": {
   "codemirror_mode": {
    "name": "ipython",
    "version": 3
   },
   "file_extension": ".py",
   "mimetype": "text/x-python",
   "name": "python",
   "nbconvert_exporter": "python",
   "pygments_lexer": "ipython3",
   "version": "3.8.0"
  }
 },
 "nbformat": 4,
 "nbformat_minor": 5
}
