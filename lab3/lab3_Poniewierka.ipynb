{
 "cells": [
  {
   "cell_type": "markdown",
   "id": "07542c47",
   "metadata": {},
   "source": [
    "<h4>Wojciech Poniewierka 402224 EAIiIB AiR AGH</h4>\n",
    "\n",
    "<h1>Laboratorium 3</h1>"
   ]
  },
  {
   "cell_type": "markdown",
   "id": "558bb64a",
   "metadata": {},
   "source": [
    "Import potrzebnych bibliotek i nawiązanie połączenia z baza danych:"
   ]
  },
  {
   "cell_type": "code",
   "execution_count": 5,
   "id": "26875c09",
   "metadata": {},
   "outputs": [],
   "source": [
    "import psycopg2 as pg\n",
    "import pandas as pd\n",
    "\n",
    "connection = pg.connect(host='pgsql-196447.vipserv.org', port=5432, \n",
    "                        dbname='wbauer_adb', user='wbauer_adb', password='adb2020')"
   ]
  },
  {
   "cell_type": "markdown",
   "id": "7cf72f4a",
   "metadata": {},
   "source": [
    "Zadanie 1. \n",
    "<br/><br/>\n",
    "Ile kategorii filmów mamy w wypożyczalni?"
   ]
  },
  {
   "cell_type": "code",
   "execution_count": 16,
   "id": "94bae858",
   "metadata": {},
   "outputs": [
    {
     "name": "stdout",
     "output_type": "stream",
     "text": [
      "           name\n",
      "0        Comedy\n",
      "1         Drama\n",
      "2        Horror\n",
      "3        Sci-Fi\n",
      "4      Classics\n",
      "5       Foreign\n",
      "6         Games\n",
      "7           New\n",
      "8        Travel\n",
      "9        Action\n",
      "10        Music\n",
      "11  Documentary\n",
      "12       Sports\n",
      "13    Animation\n",
      "14     Children\n",
      "15       Family\n",
      "Ilość różnych kategorii: 16\n"
     ]
    }
   ],
   "source": [
    "query = 'SELECT DISTINCT name FROM category'\n",
    "\n",
    "df = pd.read_sql(query,con=connection)\n",
    "print(df)\n",
    "print(f'Ilość różnych kategorii: {len(df)}')"
   ]
  },
  {
   "cell_type": "markdown",
   "id": "b32a3fdc",
   "metadata": {},
   "source": [
    "Zadanie 2. \n",
    "<br/><br/>\n",
    "Wyświetl listę kategorii w kolejności alfabetycznej."
   ]
  },
  {
   "cell_type": "code",
   "execution_count": 19,
   "id": "5aaeffd5",
   "metadata": {},
   "outputs": [
    {
     "name": "stdout",
     "output_type": "stream",
     "text": [
      "           name\n",
      "0        Action\n",
      "1     Animation\n",
      "2      Children\n",
      "3      Classics\n",
      "4        Comedy\n",
      "5   Documentary\n",
      "6         Drama\n",
      "7        Family\n",
      "8       Foreign\n",
      "9         Games\n",
      "10       Horror\n",
      "11        Music\n",
      "12          New\n",
      "13       Sci-Fi\n",
      "14       Sports\n",
      "15       Travel\n"
     ]
    }
   ],
   "source": [
    "query = 'SELECT DISTINCT name FROM category ORDER BY name'\n",
    "\n",
    "df = pd.read_sql(query,con=connection)\n",
    "print(df)"
   ]
  },
  {
   "cell_type": "markdown",
   "id": "39f9d31b",
   "metadata": {},
   "source": [
    "Zadanie 3. \n",
    "<br/><br/>\n",
    "Znajdź najstarszy i najmłodszy film do wypożyczenia."
   ]
  },
  {
   "cell_type": "code",
   "execution_count": 25,
   "id": "37868aea",
   "metadata": {},
   "outputs": [
    {
     "name": "stdout",
     "output_type": "stream",
     "text": [
      "Najmłodszy film:\n",
      "             title\n",
      "0  Chamber Italian\n",
      "\n",
      "Najstarszy film:\n",
      "             title\n",
      "0  Chamber Italian\n"
     ]
    }
   ],
   "source": [
    "query = 'SELECT title FROM film WHERE release_year = (SELECT MIN(release_year) from film) LIMIT 1'\n",
    "\n",
    "df = pd.read_sql(query,con=connection)\n",
    "print(\"Najmłodszy film:\")\n",
    "print(df)\n",
    "\n",
    "\n",
    "query = 'SELECT title FROM film WHERE release_year = (SELECT MAX(release_year) from film) LIMIT 1'\n",
    "\n",
    "df = pd.read_sql(query,con=connection)\n",
    "print('\\nNajstarszy film:')\n",
    "print(df)"
   ]
  },
  {
   "cell_type": "markdown",
   "id": "6c93d4a8",
   "metadata": {},
   "source": [
    "Zadanie 4. \n",
    "<br/><br/>\n",
    "Ile wypożyczeń odbyło się między 2005-07-01 a 2005-08-01?"
   ]
  },
  {
   "cell_type": "code",
   "execution_count": 33,
   "id": "76eea280",
   "metadata": {},
   "outputs": [
    {
     "name": "stdout",
     "output_type": "stream",
     "text": [
      "   count\n",
      "0   6709\n"
     ]
    }
   ],
   "source": [
    "query = \"SELECT COUNT(*) FROM rental WHERE rental_date BETWEEN '2005-07-01' AND '2005-08-01'\"\n",
    "\n",
    "df = pd.read_sql(query,con=connection)\n",
    "print(df)"
   ]
  },
  {
   "cell_type": "markdown",
   "id": "d7c6984f",
   "metadata": {},
   "source": [
    "Zadanie 5. \n",
    "<br/><br/>\n",
    "Ile wypożyczeń odbyło się między 2010-01-01 a 2011-02-01?"
   ]
  },
  {
   "cell_type": "code",
   "execution_count": 35,
   "id": "8259032e",
   "metadata": {},
   "outputs": [
    {
     "name": "stdout",
     "output_type": "stream",
     "text": [
      "   count\n",
      "0      0\n"
     ]
    }
   ],
   "source": [
    "query = \"SELECT COUNT(*) FROM rental WHERE rental_date BETWEEN '2010-01-01' AND '2011-02-01'\"\n",
    "\n",
    "df = pd.read_sql(query,con=connection)\n",
    "print(df)"
   ]
  },
  {
   "cell_type": "markdown",
   "id": "37a750fd",
   "metadata": {},
   "source": [
    "Zadanie 6. \n",
    "<br/><br/>\n",
    "Znajdź największą płatność wypożyczenia."
   ]
  },
  {
   "cell_type": "code",
   "execution_count": 37,
   "id": "bd822829",
   "metadata": {},
   "outputs": [
    {
     "name": "stdout",
     "output_type": "stream",
     "text": [
      "     max\n",
      "0  11.99\n"
     ]
    }
   ],
   "source": [
    "query = \"SELECT MAX(amount) FROM payment\"\n",
    "\n",
    "df = pd.read_sql(query,con=connection)\n",
    "print(df)"
   ]
  },
  {
   "cell_type": "markdown",
   "id": "9c37834e",
   "metadata": {},
   "source": [
    "Zadanie 7. \n",
    "<br/><br/>\n",
    "Znajdź wszystkich klientów z Polski, Nigerii lub Bangladeszu."
   ]
  },
  {
   "cell_type": "code",
   "execution_count": null,
   "id": "11a5fe3d",
   "metadata": {},
   "outputs": [],
   "source": [
    "query = \"SELECT * FROM customer WHERE adress_id\"\n",
    "\n",
    "df = pd.read_sql(query,con=connection)\n",
    "print(df)"
   ]
  }
 ],
 "metadata": {
  "kernelspec": {
   "display_name": "Python 3",
   "language": "python",
   "name": "python3"
  },
  "language_info": {
   "codemirror_mode": {
    "name": "ipython",
    "version": 3
   },
   "file_extension": ".py",
   "mimetype": "text/x-python",
   "name": "python",
   "nbconvert_exporter": "python",
   "pygments_lexer": "ipython3",
   "version": "3.8.8"
  }
 },
 "nbformat": 4,
 "nbformat_minor": 5
}
